{
 "cells": [
  {
   "cell_type": "code",
   "execution_count": 1,
   "metadata": {},
   "outputs": [],
   "source": [
    "import os\n",
    "import sys\n",
    "import pandas as pd\n",
    "import numpy as np\n",
    "\n",
    "import matplotlib.pyplot as plt"
   ]
  },
  {
   "cell_type": "code",
   "execution_count": 2,
   "metadata": {},
   "outputs": [
    {
     "data": {
      "text/html": [
       "<style>.container { width:100% !important; }</style>"
      ],
      "text/plain": [
       "<IPython.core.display.HTML object>"
      ]
     },
     "metadata": {},
     "output_type": "display_data"
    }
   ],
   "source": [
    "from IPython.core.display import display, HTML\n",
    "display(HTML(\"<style>.container { width:100% !important; }</style>\"))\n",
    "\n",
    "#pd.set_option('display.height', 1000)\n",
    "pd.set_option('display.max_rows', 500)\n",
    "pd.set_option('display.max_columns', 500)\n",
    "pd.set_option('display.width', 1000)\n",
    "pd.set_option('display.expand_frame_repr', False)\n",
    "pd.set_option('max_colwidth', 800)\n",
    "pd.set_option('display.max_colwidth', 500)\n",
    "pd.set_option('expand_frame_repr', True)"
   ]
  },
  {
   "cell_type": "code",
   "execution_count": 3,
   "metadata": {},
   "outputs": [],
   "source": [
    "APP_NAME = \"Policy Evaluation - Chessy II\"\n",
    "\n",
    "try:\n",
    "    sc.stop()\n",
    "    spark.stop()\n",
    "except:\n",
    "    pass\n",
    "\n",
    "from pyspark import SparkConf\n",
    "from pyspark.context import SparkContext\n",
    "from pyspark.sql.session import SparkSession\n",
    "\n",
    "    \n",
    "sc = SparkContext(conf = SparkConf() \n",
    "                  .set(\"spark.driver.maxResultSize\", \"128g\") \n",
    "                  .set(\"spark.sql.execution.arrow.enabled\", \"true\") \n",
    "                  .set('spark.sql.broadcastTimeout', 1000) \n",
    "                  .set('spark.local.dir', '/data_data/session_length/spark_tmp/') \n",
    "                  .set('spark.driver.memory', '128G') \n",
    "                  .set(\"spark.executor.instances\", \"20\") \n",
    "                  .set(\"spark.executor.cores\", 16) \n",
    "                  .set(\"spark.executor.memory\", \"8G\")).getOrCreate()\n",
    "spark = SparkSession(sc)\n",
    "spark.sparkContext.setLogLevel(\"ERROR\")"
   ]
  },
  {
   "cell_type": "code",
   "execution_count": 4,
   "metadata": {},
   "outputs": [],
   "source": [
    "from pyspark.sql.types import StructField, StructType, StringType, LongType, DateType, DoubleType, IntegerType, ArrayType, BooleanType\n",
    "from pyspark.sql.functions import count, mean, stddev_pop, min, max, lit, round, bround, pow, col, corr, lower, upper, avg, stddev, abs, log\n",
    "from pyspark.sql.functions import lit, trim, rtrim, rpad, trim, coalesce\n",
    "from pyspark.sql.functions import current_date, current_timestamp, date_add, date_sub, months_between, to_date\n",
    "from pyspark.sql.functions import udf, col, sum, from_json,lag, lead, monotonically_increasing_id, row_number, array, explode, desc\n",
    "from pyspark.sql.window import Window\n",
    "from pyspark.sql.functions import desc, dense_rank, rank, expr, split, regexp_replace\n",
    "\n",
    "\n",
    "from pyspark.ml import Pipeline\n",
    "from pyspark.ml.feature import RFormula\n",
    "from pyspark.ml.classification import LogisticRegression, GBTClassifier, DecisionTreeClassifier, RandomForestClassifier\n",
    "from pyspark.ml.evaluation import BinaryClassificationEvaluator\n",
    "from pyspark.ml.regression import RandomForestRegressor, GBTRegressor\n",
    "from pyspark.ml.feature import OneHotEncoderEstimator, StringIndexer, VectorAssembler\n",
    "from pyspark.ml.tuning import CrossValidator, ParamGridBuilder\n",
    "\n",
    "from datetime import datetime"
   ]
  },
  {
   "cell_type": "markdown",
   "metadata": {},
   "source": [
    "#### Import Data"
   ]
  },
  {
   "cell_type": "code",
   "execution_count": 5,
   "metadata": {},
   "outputs": [
    {
     "name": "stdout",
     "output_type": "stream",
     "text": [
      "-rw-rw-r-- 1 ubuntu ubuntu    1 Apr 27 18:33 history_file_1000_trials_2_sides_Apr_02_2020_1648\r\n",
      "-rw-rw-r-- 1 ubuntu ubuntu 4.9M Apr 27 18:33 history_file_100_trials_2_sides_Mar_27_2020_1153\r\n",
      "-rw-rw-r-- 1 ubuntu ubuntu 525K Apr 27 18:39 history_sarsa_1k_test\r\n",
      "-rw-rw-r-- 1 ubuntu ubuntu    0 Apr 27 18:39 history_sarsa_1M_test\r\n",
      "-rw-rw-r-- 1 ubuntu ubuntu 4.9M Apr 27 18:39 history_file_100_trials_2_sides_Mar_27_2020_1235\r\n",
      "-rw-rw-r-- 1 ubuntu ubuntu    0 Apr 27 18:39 history_sarsa_full.tsv\r\n",
      "-rw-rw-r-- 1 ubuntu ubuntu  16M Apr 27 18:39 history_file_1000000_trials_2_sides_Apr_02_2020_1629\r\n",
      "-rw-r--r-- 1 ubuntu ubuntu 2.7M Apr 27 18:39 history_file_100.csv\r\n",
      "-rw-rw-r-- 1 ubuntu ubuntu 4.9M Apr 27 19:15 history_file_100_trials_2_sides_Mar_27_2020_1220\r\n",
      "-rw-rw-r-- 1 ubuntu ubuntu 4.9M Apr 27 19:22 history_file_100_trials_2_sides_Mar_27_2020_1228\r\n",
      "-rw-rw-r-- 1 ubuntu ubuntu    1 Apr 27 19:22 history_file_100_trials_2_sides_Mar_27_2020_1218\r\n",
      "-rw-rw-r-- 1 ubuntu ubuntu    1 Apr 27 19:29 history_file_1000_trials_2_sides_Apr_02_2020_1705\r\n",
      "-rw-rw-r-- 1 ubuntu ubuntu 446K Apr 27 19:29 history_1000_state_output_state_action.tsv\r\n",
      "-rw-rw-r-- 1 ubuntu ubuntu    1 Apr 27 19:36 history_file_100_trials_2_sides_Apr_02_2020_1717\r\n",
      "-rw-rw-r-- 1 ubuntu ubuntu    1 Apr 27 19:54 history_file_100_trials_2_sides_Apr_02_2020_1718\r\n",
      "-rw-rw-r-- 1 ubuntu ubuntu 4.8M May  8 00:02 history_file_100_trials_2_sides_May_08_2020_0001\r\n",
      "-rw-rw-r-- 1 ubuntu ubuntu  48M May  8 00:15 history_file_1000_trials_2_sides_May_08_2020_0007\r\n",
      "-rw-rw-r-- 1 ubuntu ubuntu 1.3M May 10 18:49 history_file_100_trials_2_sides_May_10_2020_1849\r\n",
      "-rw-rw-r-- 1 ubuntu ubuntu 1.7M May 11 06:53 history_10k_sample_from_2M\r\n",
      "-rw-rw-r-- 1 ubuntu ubuntu 1.4M May 11 10:39 history_file_100_trials_2_sides_May_11_2020_1039\r\n",
      "-rw-rw-r-- 1 ubuntu ubuntu  27G May 12 05:44 history_file_2000000_trials_2_sides_May_11_2020_1618\r\n",
      "-rw-rw-r-- 1 ubuntu ubuntu 3.8M May 12 06:28 history_file_2M_sample_of_20K\r\n",
      "-rw-rw-r-- 1 ubuntu ubuntu  39G May 12 12:04 history_file_5000000_trials_2_sides_May_11_2020_1618\r\n",
      "-rw-rw-r-- 1 ubuntu ubuntu  39G May 12 12:04 history_file_10000000_trials_2_sides_May_11_2020_1619\r\n"
     ]
    }
   ],
   "source": [
    "!ls -alrth /data_data/reinforcement_learning/results | grep history\n"
   ]
  },
  {
   "cell_type": "code",
   "execution_count": 6,
   "metadata": {},
   "outputs": [
    {
     "name": "stdout",
     "output_type": "stream",
     "text": [
      "\r\n",
      "0\t0\t[1,2,3,4,5,6,7,8,9,10,11,12,13,14,15,16,0,0,0,0,0,0,0,0,0,0,0,0,0,0,0,0,0,0,0,0,0,0,0,0,0,0,0,0,0,0,0,0,-16,-15,-14,-13,-12,-11,-10,-9,-8,-7,-6,-5,-4,-3,-2,-1]\t-1\t14,1,-1\t(Pawn,(1,-1),(1,6),(2,5))\t0\t0\r\n",
      "0\t1\t[1,2,3,4,5,6,7,8,9,10,11,12,13,14,0,15,0,0,0,0,0,16,0,0,0,0,0,0,0,0,0,0,0,0,0,0,0,0,0,0,0,0,0,0,0,0,0,0,-16,-15,-14,-13,-12,-11,-10,-9,-8,-7,-6,-5,-4,-3,-2,-1]\t-1\t-14,-1,-1\t(Pawn,(-1,-1),(6,3),(5,2))\t0\t0\r\n",
      "0\t2\t[1,2,3,4,5,6,7,8,9,10,11,12,13,14,0,15,0,0,0,0,0,16,0,0,0,0,0,0,0,0,0,0,0,0,0,0,0,0,0,0,0,0,-16,0,0,0,0,0,-15,-14,-13,0,-12,-11,-10,-9,-8,-7,-6,-5,-4,-3,-2,-1]\t-1\t10,1,-1\t(Pawn,(1,-1),(1,2),(2,1))\t0\t0\r\n",
      "0\t3\t[1,2,3,4,5,6,7,8,9,10,0,11,12,13,0,14,0,15,0,0,0,16,0,0,0,0,0,0,0,0,0,0,0,0,0,0,0,0,0,0,0,0,-16,0,0,0,0,0,-15,-14,-13,0,-12,-11,-10,-9,-8,-7,-6,-5,-4,-3,-2,-1]\t-1\t-12,-1,1\t(Pawn,(-1,1),(6,5),(5,6))\t0\t0\r\n",
      "0\t4\t[1,2,3,4,5,6,7,8,9,10,0,11,12,13,0,14,0,15,0,0,0,16,0,0,0,0,0,0,0,0,0,0,0,0,0,0,0,0,0,0,0,0,-16,0,0,0,-15,0,-14,-13,-12,0,-11,0,-10,-9,-8,-7,-6,-5,-4,-3,-2,-1]\t-1\t10,1,0\t(Pawn,(1,0),(2,1),(3,1))\t0\t0\r\n",
      "0\t5\t[1,2,3,4,5,6,7,8,9,10,0,11,12,13,0,14,0,0,0,0,0,15,0,0,0,16,0,0,0,0,0,0,0,0,0,0,0,0,0,0,0,0,-16,0,0,0,-15,0,-14,-13,-12,0,-11,0,-10,-9,-8,-7,-6,-5,-4,-3,-2,-1]\t-1\t-13,-1,0\t(Pawn,(-1,0),(6,4),(5,4))\t0\t0\r\n",
      "0\t6\t[1,2,3,4,5,6,7,8,9,10,0,11,12,13,0,14,0,0,0,0,0,15,0,0,0,16,0,0,0,0,0,0,0,0,0,0,0,0,0,0,0,0,-16,0,-15,0,-14,0,-13,-12,-11,0,0,0,-10,-9,-8,-7,-6,-5,-4,-3,-2,-1]\t-1\t5,1,1\t(Bishop,(1,1),(0,5),(1,6))\t0\t0\r\n",
      "0\t7\t[1,2,3,4,5,0,6,7,8,9,0,10,11,12,13,14,0,0,0,0,0,15,0,0,0,16,0,0,0,0,0,0,0,0,0,0,0,0,0,0,0,0,-16,0,-15,0,-14,0,-13,-12,-11,0,0,0,-10,-9,-8,-7,-6,-5,-4,-3,-2,-1]\t-1\t-11,-1,1\t(Pawn,(-1,1),(6,6),(5,7))\t0\t0\r\n",
      "0\t8\t[1,2,3,4,5,0,6,7,8,9,0,10,11,12,13,14,0,0,0,0,0,15,0,0,0,16,0,0,0,0,0,0,0,0,0,0,0,0,0,0,0,0,-16,0,-15,0,-14,-13,-12,-11,-10,0,0,0,0,-9,-8,-7,-6,-5,-4,-3,-2,-1]\t-1\t9,1,1\t(Pawn,(1,1),(1,1),(2,2))\t0\t0\r\n"
     ]
    }
   ],
   "source": [
    "!head /data_data/reinforcement_learning/results/history_file_2M_sample_of_20K"
   ]
  },
  {
   "cell_type": "code",
   "execution_count": 7,
   "metadata": {},
   "outputs": [
    {
     "name": "stdout",
     "output_type": "stream",
     "text": [
      "+---+---+---------------------------------------------------------------------------------------------------------------------------------------------------------------+---+---------+--------------------------+---+---+\n",
      "|_c0|_c1|_c2                                                                                                                                                            |_c3|_c4      |_c5                       |_c6|_c7|\n",
      "+---+---+---------------------------------------------------------------------------------------------------------------------------------------------------------------+---+---------+--------------------------+---+---+\n",
      "|0  |0  |[1,2,3,4,5,6,7,8,9,10,11,12,13,14,15,16,0,0,0,0,0,0,0,0,0,0,0,0,0,0,0,0,0,0,0,0,0,0,0,0,0,0,0,0,0,0,0,0,-16,-15,-14,-13,-12,-11,-10,-9,-8,-7,-6,-5,-4,-3,-2,-1]|-1 |14,1,-1  |(Pawn,(1,-1),(1,6),(2,5)) |0  |0  |\n",
      "|0  |1  |[1,2,3,4,5,6,7,8,9,10,11,12,13,14,0,15,0,0,0,0,0,16,0,0,0,0,0,0,0,0,0,0,0,0,0,0,0,0,0,0,0,0,0,0,0,0,0,0,-16,-15,-14,-13,-12,-11,-10,-9,-8,-7,-6,-5,-4,-3,-2,-1]|-1 |-14,-1,-1|(Pawn,(-1,-1),(6,3),(5,2))|0  |0  |\n",
      "|0  |2  |[1,2,3,4,5,6,7,8,9,10,11,12,13,14,0,15,0,0,0,0,0,16,0,0,0,0,0,0,0,0,0,0,0,0,0,0,0,0,0,0,0,0,-16,0,0,0,0,0,-15,-14,-13,0,-12,-11,-10,-9,-8,-7,-6,-5,-4,-3,-2,-1]|-1 |10,1,-1  |(Pawn,(1,-1),(1,2),(2,1)) |0  |0  |\n",
      "|0  |3  |[1,2,3,4,5,6,7,8,9,10,0,11,12,13,0,14,0,15,0,0,0,16,0,0,0,0,0,0,0,0,0,0,0,0,0,0,0,0,0,0,0,0,-16,0,0,0,0,0,-15,-14,-13,0,-12,-11,-10,-9,-8,-7,-6,-5,-4,-3,-2,-1]|-1 |-12,-1,1 |(Pawn,(-1,1),(6,5),(5,6)) |0  |0  |\n",
      "|0  |4  |[1,2,3,4,5,6,7,8,9,10,0,11,12,13,0,14,0,15,0,0,0,16,0,0,0,0,0,0,0,0,0,0,0,0,0,0,0,0,0,0,0,0,-16,0,0,0,-15,0,-14,-13,-12,0,-11,0,-10,-9,-8,-7,-6,-5,-4,-3,-2,-1]|-1 |10,1,0   |(Pawn,(1,0),(2,1),(3,1))  |0  |0  |\n",
      "+---+---+---------------------------------------------------------------------------------------------------------------------------------------------------------------+---+---------+--------------------------+---+---+\n",
      "only showing top 5 rows\n",
      "\n"
     ]
    }
   ],
   "source": [
    "df = spark.read.format('com.databricks.spark.csv').options(header='false', inferschema='true', delimiter='\\t').load('/data_data/reinforcement_learning/results/history_file_2M_sample_of_20K')\n",
    "df.show(5,False)"
   ]
  },
  {
   "cell_type": "code",
   "execution_count": 8,
   "metadata": {},
   "outputs": [
    {
     "data": {
      "text/plain": [
       "DataFrame[summary: string, _c0: string, _c1: string, _c2: string, _c3: string, _c4: string, _c5: string, _c6: string, _c7: string]"
      ]
     },
     "execution_count": 8,
     "metadata": {},
     "output_type": "execute_result"
    }
   ],
   "source": [
    "df.describe()"
   ]
  },
  {
   "cell_type": "markdown",
   "metadata": {},
   "source": [
    "### Set up schema for episode data"
   ]
  },
  {
   "cell_type": "code",
   "execution_count": 9,
   "metadata": {},
   "outputs": [],
   "source": [
    "file_to_import = \"/data_data/reinforcement_learning/results/history_file_2000000_trials_2_sides_May_11_2020_1618\""
   ]
  },
  {
   "cell_type": "code",
   "execution_count": 10,
   "metadata": {},
   "outputs": [],
   "source": [
    "SARF = None\n",
    "def import_episode_data():\n",
    "    print(\"====================================================================================================================\")\n",
    "    print(\"====================================state_avg_value_sarsa_2M.tsv====================================================\")\n",
    "    print(\"==================================================================================================================\\n\\n\")\n",
    "    global SARF\n",
    "    DRLSchema = StructType([\\\n",
    "        StructField('episode',  IntegerType(), True),\\\n",
    "        StructField('step',     IntegerType(), True),\\\n",
    "        StructField('_state_prior_',   StringType(),  True),\\\n",
    "        StructField('reward_',   IntegerType(), True),\\\n",
    "        StructField('action',   StringType(),  True),\\\n",
    "        StructField('action_verbose',   StringType(),  True),\\\n",
    "        StructField('a',        LongType(),    True),\\\n",
    "        StructField('b',        LongType(),    True)])  \n",
    "    \n",
    "    udf_lr_trim = udf(lambda str_arr:str_arr[1:-1], StringType())\n",
    "    \n",
    "    SARF = spark.read.format('csv').schema(DRLSchema).option(\"sep\",\"\\t\").load(file_to_import).withColumn('_state_prior',udf_lr_trim('_state_prior_')).drop('_state_prior_').drop('a').drop('b')\n",
    "    \n",
    "    \n",
    "    "
   ]
  },
  {
   "cell_type": "markdown",
   "metadata": {},
   "source": [
    "### Import episode data"
   ]
  },
  {
   "cell_type": "code",
   "execution_count": 11,
   "metadata": {},
   "outputs": [
    {
     "name": "stdout",
     "output_type": "stream",
     "text": [
      "====================================================================================================================\n",
      "====================================state_avg_value_sarsa_2M.tsv====================================================\n",
      "==================================================================================================================\n",
      "\n",
      "\n"
     ]
    }
   ],
   "source": [
    "import_episode_data()"
   ]
  },
  {
   "cell_type": "code",
   "execution_count": 12,
   "metadata": {},
   "outputs": [
    {
     "name": "stdout",
     "output_type": "stream",
     "text": [
      "+-------+----+-------+---------+--------------------------+-------------------------------------------------------------------------------------------------------------------------------------------------------------+\n",
      "|episode|step|reward_|action   |action_verbose            |_state_prior                                                                                                                                                 |\n",
      "+-------+----+-------+---------+--------------------------+-------------------------------------------------------------------------------------------------------------------------------------------------------------+\n",
      "|0      |0   |-1     |14,1,-1  |(Pawn,(1,-1),(1,6),(2,5)) |1,2,3,4,5,6,7,8,9,10,11,12,13,14,15,16,0,0,0,0,0,0,0,0,0,0,0,0,0,0,0,0,0,0,0,0,0,0,0,0,0,0,0,0,0,0,0,0,-16,-15,-14,-13,-12,-11,-10,-9,-8,-7,-6,-5,-4,-3,-2,-1|\n",
      "|0      |1   |-1     |-14,-1,-1|(Pawn,(-1,-1),(6,3),(5,2))|1,2,3,4,5,6,7,8,9,10,11,12,13,14,0,15,0,0,0,0,0,16,0,0,0,0,0,0,0,0,0,0,0,0,0,0,0,0,0,0,0,0,0,0,0,0,0,0,-16,-15,-14,-13,-12,-11,-10,-9,-8,-7,-6,-5,-4,-3,-2,-1|\n",
      "|0      |2   |-1     |10,1,-1  |(Pawn,(1,-1),(1,2),(2,1)) |1,2,3,4,5,6,7,8,9,10,11,12,13,14,0,15,0,0,0,0,0,16,0,0,0,0,0,0,0,0,0,0,0,0,0,0,0,0,0,0,0,0,-16,0,0,0,0,0,-15,-14,-13,0,-12,-11,-10,-9,-8,-7,-6,-5,-4,-3,-2,-1|\n",
      "|0      |3   |-1     |-12,-1,1 |(Pawn,(-1,1),(6,5),(5,6)) |1,2,3,4,5,6,7,8,9,10,0,11,12,13,0,14,0,15,0,0,0,16,0,0,0,0,0,0,0,0,0,0,0,0,0,0,0,0,0,0,0,0,-16,0,0,0,0,0,-15,-14,-13,0,-12,-11,-10,-9,-8,-7,-6,-5,-4,-3,-2,-1|\n",
      "|0      |4   |-1     |10,1,0   |(Pawn,(1,0),(2,1),(3,1))  |1,2,3,4,5,6,7,8,9,10,0,11,12,13,0,14,0,15,0,0,0,16,0,0,0,0,0,0,0,0,0,0,0,0,0,0,0,0,0,0,0,0,-16,0,0,0,-15,0,-14,-13,-12,0,-11,0,-10,-9,-8,-7,-6,-5,-4,-3,-2,-1|\n",
      "+-------+----+-------+---------+--------------------------+-------------------------------------------------------------------------------------------------------------------------------------------------------------+\n",
      "only showing top 5 rows\n",
      "\n"
     ]
    }
   ],
   "source": [
    "SARF.show(5,False)"
   ]
  },
  {
   "cell_type": "code",
   "execution_count": 13,
   "metadata": {},
   "outputs": [
    {
     "name": "stdout",
     "output_type": "stream",
     "text": [
      "root\n",
      " |-- episode: integer (nullable = true)\n",
      " |-- step: integer (nullable = true)\n",
      " |-- reward_: integer (nullable = true)\n",
      " |-- action: string (nullable = true)\n",
      " |-- action_verbose: string (nullable = true)\n",
      " |-- _state_prior: string (nullable = true)\n",
      "\n"
     ]
    }
   ],
   "source": [
    "SARF.printSchema()"
   ]
  },
  {
   "cell_type": "markdown",
   "metadata": {},
   "source": [
    "### Create unique ID for each turn"
   ]
  },
  {
   "cell_type": "markdown",
   "metadata": {},
   "source": [
    "###### Note: Agent moves are ODD numbered whereas Environment moves are EVEN numbered\n",
    "###### Here we add an index column (ID) "
   ]
  },
  {
   "cell_type": "code",
   "execution_count": 14,
   "metadata": {},
   "outputs": [],
   "source": [
    "cols = ['episode','step']\n",
    "\n",
    "w = Window.orderBy(cols)\n",
    "\n",
    "SARF_df = SARF.withColumn(\"id\", row_number().over(w))\n",
    "\n",
    "#SARF_df.show(10,False)"
   ]
  },
  {
   "cell_type": "markdown",
   "metadata": {},
   "source": [
    "### Create a column that captures BOTH Agent and Environment turns into a single row [SARS]\n",
    "#### Drop the odd rows (which only capture Agent moves)"
   ]
  },
  {
   "cell_type": "code",
   "execution_count": 15,
   "metadata": {},
   "outputs": [],
   "source": [
    "#SARF_df.registerTempTable(\"SARF\")"
   ]
  },
  {
   "cell_type": "code",
   "execution_count": 16,
   "metadata": {},
   "outputs": [],
   "source": [
    "#spark.sql(\"select * from SARF\").show(5, False)"
   ]
  },
  {
   "cell_type": "code",
   "execution_count": 17,
   "metadata": {},
   "outputs": [],
   "source": [
    "#spark.sql(\"select count(*) from SARF\").show()"
   ]
  },
  {
   "cell_type": "code",
   "execution_count": 18,
   "metadata": {},
   "outputs": [],
   "source": [
    "#a_df = spark.sql('select id,episode,turn,_state_prior,action,lead(_state_prior,3) over(partition by episode order by turn) as state_prime from SARF').show(150,False)"
   ]
  },
  {
   "cell_type": "code",
   "execution_count": 19,
   "metadata": {},
   "outputs": [],
   "source": [
    "w_step = Window.partitionBy('episode').orderBy(col(\"id\"))\n",
    "\n",
    "initial_state = \"1,2,3,4,5,6,7,8,9,10,11,12,13,14,15,16,0,0,0,0,0,0,0,0,0,0,0,0,0,0,0,0,0,0,0,0,0,0,0,0,0,0,0,0,0,0,0,0,-16,-15,-14,-13,-12,-11,-10,-9,-8,-7,-6,-5,-4,-3,-2,-1\"\n",
    "\n",
    "SARF_env_step_df = SARF_df.withColumn('_state_prime',lead(col('_state_prior'),3,initial_state).over(w_step)).filter(SARF_df[\"id\"] % 2 == 0).withColumn('state_prior', array(col('_state_prior'))).drop('_state_prior').drop('_state').withColumn('state_prime', array(col('_state_prime'))).drop('_state_prime')\n",
    "\n",
    "#SARF_env_step_df.show(10,False)"
   ]
  },
  {
   "cell_type": "code",
   "execution_count": 20,
   "metadata": {},
   "outputs": [],
   "source": [
    "check_lag_udf = udf(lambda a,b: a==b, BooleanType())"
   ]
  },
  {
   "cell_type": "code",
   "execution_count": 21,
   "metadata": {},
   "outputs": [],
   "source": [
    "SARF_test_lag_df = SARF_env_step_df.withColumn(\"lag_check\", check_lag_udf(col('state_prime'),col('state_prior')))\n",
    "#SARF_test_lag_df.show(10, False)"
   ]
  },
  {
   "cell_type": "markdown",
   "metadata": {},
   "source": [
    "### Set up Hyperparameters for MDPs"
   ]
  },
  {
   "cell_type": "code",
   "execution_count": 22,
   "metadata": {},
   "outputs": [],
   "source": [
    "#Discount rate\n",
    "gamma = 0.7"
   ]
  },
  {
   "cell_type": "code",
   "execution_count": 23,
   "metadata": {},
   "outputs": [],
   "source": [
    "#Learning rate\n",
    "alpha = 1.0"
   ]
  },
  {
   "cell_type": "markdown",
   "metadata": {},
   "source": [
    "### Calculate reward for each SAS transition using the SUM_Diffs of the respective States \n",
    "#### NOTE: Here we lookup player/piece actual values in a dictusing their board_ids  (16 -> 16)  "
   ]
  },
  {
   "cell_type": "code",
   "execution_count": 24,
   "metadata": {},
   "outputs": [],
   "source": [
    "piece_value_dict = {\"1\":5,\"2\":3,\"3\":3,\"4\":9,\"5\":20,\"6\":3,\"7\":3,\"8\":5,\"9\":1,\"10\":1,\"11\":1,\"12\":1,\"13\":1,\"14\":1,\"15\":1,\"16\":1,\"-16\":-1,\"-15\":-1,\"-14\":-1,\"-13\":-1,\"-12\":-1,\"-11\":-1,\"-10\":-1,\"-9\":-1,\"-8\":-5,\"-7\":-3,\"-6\":-3,\"-5\":-9,\"-4\":-20,\"-3\":-3,\"-2\":-3,\"-1\":-5}\n"
   ]
  },
  {
   "cell_type": "code",
   "execution_count": 25,
   "metadata": {},
   "outputs": [],
   "source": [
    "def normalized_reward(reward_):\n",
    "    reward = reward_\n",
    "    if reward <= -1:\n",
    "        return -1\n",
    "    elif reward >= 1:\n",
    "        return 1\n",
    "    else:\n",
    "        return reward"
   ]
  },
  {
   "cell_type": "code",
   "execution_count": 26,
   "metadata": {},
   "outputs": [],
   "source": [
    "get_normalized_reward = udf(lambda x: normalized_reward(x), IntegerType())"
   ]
  },
  {
   "cell_type": "code",
   "execution_count": 27,
   "metadata": {},
   "outputs": [],
   "source": [
    "SASR_df = SARF_env_step_df.withColumn('reward', get_normalized_reward(col('reward_'))).drop('reward_')\n",
    "#SASR_df = SARF_env_step_df\n",
    "#SASR_df.show(10,False)"
   ]
  },
  {
   "cell_type": "code",
   "execution_count": 28,
   "metadata": {},
   "outputs": [],
   "source": [
    "get_discounted_reward = udf(lambda reward, step, episode_length, discount: int(reward)*discount**(episode_length - step), DoubleType())"
   ]
  },
  {
   "cell_type": "code",
   "execution_count": 29,
   "metadata": {},
   "outputs": [],
   "source": [
    "byEpisode = Window.partitionBy('episode')\n",
    "SASR_discounted_rewards_df = SASR_df.withColumn('discounted_reward',get_discounted_reward(col('reward'),col('step'), max('step').over(byEpisode),lit(gamma)))\n",
    "#SASR_discounted_rewards_df.show(10,False)"
   ]
  },
  {
   "cell_type": "code",
   "execution_count": 30,
   "metadata": {},
   "outputs": [],
   "source": [
    "byEpisode_desc = Window.partitionBy('episode').orderBy(col('step'))\n",
    "\n",
    "get_state_value = udf(lambda reward, discounted_rewards: normalized_reward(reward) + discounted_rewards, DoubleType())\n",
    "\n",
    "SASR_cumsum_discounted_rewards_df = SASR_discounted_rewards_df.withColumn('value',get_state_value(col('reward'),sum('discounted_reward').over(byEpisode_desc)))\n",
    "#SASR_cumsum_discounted_rewards_df.show(10,False)"
   ]
  },
  {
   "cell_type": "markdown",
   "metadata": {},
   "source": [
    "### Calculate Average Value for a state V(s)"
   ]
  },
  {
   "cell_type": "code",
   "execution_count": 31,
   "metadata": {},
   "outputs": [],
   "source": [
    "State_Value_df = SASR_cumsum_discounted_rewards_df.groupBy('state_prior').agg(expr('avg(value) as state_value')).withColumnRenamed('state_prior','state') \n",
    "#State_Value_df.show(10,False)"
   ]
  },
  {
   "cell_type": "markdown",
   "metadata": {},
   "source": [
    "### Calculate Q(s,a) == State_Action Value"
   ]
  },
  {
   "cell_type": "code",
   "execution_count": 32,
   "metadata": {},
   "outputs": [],
   "source": [
    "State_Action_Value_df = SASR_cumsum_discounted_rewards_df.groupBy(['state_prior','action','action_verbose','reward']).agg(expr('avg(value) as V_state_action'),expr('stddev_pop(value) as std_value'),expr('count(state_prior) as visits'))\n",
    "#State_Action_Value_df.show(10,False)"
   ]
  },
  {
   "cell_type": "markdown",
   "metadata": {},
   "source": [
    "### Calculate T(s,a,s_) == State_Action_State' Transition Matrix"
   ]
  },
  {
   "cell_type": "code",
   "execution_count": 33,
   "metadata": {},
   "outputs": [
    {
     "name": "stdout",
     "output_type": "stream",
     "text": [
      "+----------------------------------------------------------------------------------------------------------------------------------------------------+--------+---------------------------+--------------------------------------------------------------------------------------------------------------------------------------------------+------+-----------+\n",
      "|state_prior                                                                                                                                         |action  |action_verbose             |state_prime                                                                                                                                       |reward|transitions|\n",
      "+----------------------------------------------------------------------------------------------------------------------------------------------------+--------+---------------------------+--------------------------------------------------------------------------------------------------------------------------------------------------+------+-----------+\n",
      "|[0,0,0,0,0,0,0,0,0,0,0,0,0,0,0,1,2,0,3,4,0,0,0,0,5,6,7,0,0,0,8,9,0,0,10,11,0,0,0,0,0,0,0,0,12,13,0,0,0,14,0,0,0,0,0,0,15,0,0,0,0,0,0,16]            |-4,-1,1 |(Bishop,(-1,1),(5,5),(4,6))|[0,0,0,0,0,0,0,0,0,0,0,1,0,0,0,2,3,0,4,0,0,0,0,0,5,6,7,0,0,0,8,9,0,0,10,11,0,0,12,0,0,0,0,0,13,0,0,0,0,0,0,0,0,0,0,0,14,0,0,15,0,0,0,16]          |-1    |1          |\n",
      "|[0,0,0,0,0,0,0,0,0,0,0,0,0,0,0,1,2,3,4,0,0,5,0,6,7,8,0,9,0,10,0,11,12,0,13,14,15,16,-16,0,0,-15,0,0,0,0,0,-14,0,0,0,0,0,0,0,-13,-12,0,0,0,-11,0,0,0]|-17,-1,1|(Pawn,(-1,1),(5,1),(4,2))  |[0,0,0,0,0,0,0,0,0,0,0,0,0,0,0,1,2,3,4,0,0,5,0,6,7,8,0,9,0,10,0,11,12,0,13,14,15,16,-16,0,0,0,0,0,-15,0,0,0,0,0,0,0,0,0,0,-14,-13,0,0,0,-12,0,0,0]|-1    |1          |\n",
      "|[0,0,0,0,0,0,0,0,0,0,0,0,0,0,0,1,2,3,4,5,6,0,0,0,7,8,0,0,0,0,9,10,11,12,0,0,13,14,0,0,15,0,0,0,0,0,0,0,0,0,0,0,16,0,0,-16,0,0,-15,0,0,-14,-13,0]    |-17,-1,0|(Pawn,(-1,0),(4,0),(3,0))  |[0,0,0,0,0,0,0,0,0,0,0,1,0,0,0,0,2,3,4,5,0,0,0,6,7,8,0,0,0,0,9,10,0,11,0,0,12,13,0,0,14,0,0,0,0,0,0,0,0,0,0,0,15,0,0,16,0,0,-16,0,0,-15,-14,0]    |-1    |1          |\n",
      "|[0,0,0,0,0,0,0,0,0,0,0,0,0,0,1,0,0,0,2,0,0,0,3,4,5,6,0,0,7,8,9,0,0,0,10,0,0,11,0,0,0,0,0,0,0,0,0,12,13,0,0,0,0,0,0,14,0,15,16,0,0,0,0,0]            |-5,-1,1 |(Queen,(-1,1),(2,6),(1,7)) |[0,0,0,0,0,0,0,0,0,0,0,0,0,0,1,2,0,0,3,0,0,4,0,5,6,7,0,0,8,0,9,0,0,0,0,0,0,10,0,0,0,0,0,11,0,0,0,12,13,0,0,0,0,0,0,14,0,15,16,0,0,0,0,0]          |-1    |1          |\n",
      "|[0,0,0,0,0,0,0,0,0,0,0,0,0,0,1,0,2,3,4,5,6,0,0,7,0,8,0,0,0,9,0,10,0,0,0,11,0,0,0,0,12,13,0,14,0,0,0,0,0,0,0,0,0,0,0,0,15,16,0,0,-16,0,0,0]          |-14,-1,1|(Pawn,(-1,1),(2,3),(1,4))  |[0,0,0,0,0,0,0,0,0,0,0,0,1,0,2,0,3,4,5,0,6,0,0,7,0,8,0,0,0,9,0,10,0,0,0,11,0,0,0,0,12,0,0,13,0,0,0,0,14,0,0,15,0,0,0,0,16,0,0,0,-16,0,0,0]        |-1    |1          |\n",
      "|[0,0,0,0,0,0,0,0,0,0,0,0,0,0,1,2,3,0,0,4,5,6,7,8,0,9,10,0,0,0,0,11,0,12,0,0,0,0,0,0,13,0,14,15,0,0,0,0,16,0,0,0,0,0,0,-16,-15,0,-14,0,0,0,0,-13]    |-6,-1,0 |(King,(-1,0),(1,6),(0,6))  |[0,0,0,0,0,0,1,0,0,0,0,0,0,0,0,2,3,0,0,4,5,6,7,8,0,9,10,0,0,0,0,11,0,0,12,0,0,0,0,0,13,14,15,0,0,0,0,0,16,0,0,0,0,0,0,-16,-15,0,-14,0,0,0,0,-13]  |-1    |1          |\n",
      "|[0,0,0,0,0,0,0,0,0,0,0,0,0,0,1,2,3,0,4,0,0,0,5,0,0,6,7,0,0,0,8,0,0,0,0,9,10,0,0,0,11,0,0,0,0,0,0,12,13,0,14,0,0,0,0,0,15,0,0,0,0,16,0,0]            |-5,-1,1 |(Queen,(-1,1),(4,4),(3,5)) |[0,0,0,0,0,0,0,0,0,0,0,0,0,0,1,2,3,0,4,0,0,0,0,0,0,5,0,0,0,6,7,0,0,8,0,9,0,0,0,0,10,0,0,0,0,0,0,11,12,0,13,0,0,0,0,0,14,0,0,0,0,15,0,0]           |-1    |1          |\n",
      "|[0,0,0,0,0,0,0,0,0,0,0,0,0,0,1,2,3,0,4,5,6,0,0,7,0,0,0,0,0,0,0,0,0,0,0,0,0,0,8,9,10,0,0,0,0,0,0,0,0,0,11,0,0,0,0,12,0,0,0,0,13,0,0,0]               |-4,-1,1 |(Bishop,(-1,1),(4,6),(3,7))|[0,0,0,0,0,0,0,0,0,0,1,0,0,0,2,3,4,0,0,0,5,0,0,6,0,0,0,7,0,0,0,8,0,0,0,0,0,0,0,9,10,0,0,0,0,0,0,0,0,0,11,0,0,0,0,12,0,0,0,0,13,0,0,0]             |-1    |1          |\n",
      "|[0,0,0,0,0,0,0,0,0,0,0,0,0,0,1,2,3,4,0,0,0,5,0,0,0,6,7,8,9,10,0,0,0,0,11,0,12,0,13,0,0,0,14,0,0,0,0,15,0,0,0,0,0,0,0,0,16,0,0,0,0,0,-16,0]          |-6,-1,0 |(King,(-1,0),(3,1),(2,1))  |[0,0,0,0,0,0,0,0,0,0,0,0,0,1,2,3,4,5,0,0,0,0,0,0,0,0,6,0,7,8,0,0,0,0,9,10,11,0,12,0,0,0,13,0,0,0,0,14,0,0,0,0,0,0,0,0,15,0,0,0,0,0,16,0]          |-1    |1          |\n",
      "|[0,0,0,0,0,0,0,0,0,0,0,0,0,0,1,2,3,4,0,5,0,0,6,7,0,0,0,8,9,10,0,0,0,11,0,12,0,13,0,0,0,0,0,0,14,0,0,0,15,0,0,0,0,0,16,0,-16,0,0,0,0,0,-15,-14]      |11,1,1  |(Pawn,(1,1),(4,3),(5,4))   |[0,0,0,0,0,0,0,0,0,0,0,0,0,0,1,2,3,4,0,5,0,0,6,7,0,0,0,8,9,10,0,0,0,0,0,0,0,11,0,0,0,0,12,0,13,0,0,14,15,0,0,0,0,0,0,0,16,0,0,0,0,0,-16,-15]      |-1    |1          |\n",
      "+----------------------------------------------------------------------------------------------------------------------------------------------------+--------+---------------------------+--------------------------------------------------------------------------------------------------------------------------------------------------+------+-----------+\n",
      "only showing top 10 rows\n",
      "\n"
     ]
    }
   ],
   "source": [
    "State_Action_State_df_ = SASR_cumsum_discounted_rewards_df.groupBy(['state_prior','action','action_verbose','state_prime','reward']).agg(expr('count(state_prime) as transitions'))\n",
    "State_Action_State_df_.show(10,False)"
   ]
  },
  {
   "cell_type": "code",
   "execution_count": 34,
   "metadata": {},
   "outputs": [],
   "source": [
    "sas_window_spec = Window.partitionBy('state_prior')\n",
    "\n",
    "get_transition_frequency_udf = udf(lambda transitions, state_visits: 1.0 if transitions > state_visits else transitions/state_visits, DoubleType())\n",
    "\n",
    "State_Action_State_df = State_Action_State_df_.withColumn('state_visits', count('state_prior').over(sas_window_spec)).withColumn('trans_freq',get_transition_frequency_udf('transitions','state_visits') )\n",
    "#State_Action_State_df.show(10,False)\n"
   ]
  },
  {
   "cell_type": "markdown",
   "metadata": {},
   "source": [
    "### Generate Policy == P(s,a) for MDP modelling of Environment \n",
    "###### Assume agent would use equiprobable action selection or random selection from feasible actions to teleport to another state if it encounters an unknown state"
   ]
  },
  {
   "cell_type": "code",
   "execution_count": 35,
   "metadata": {},
   "outputs": [],
   "source": [
    "#State_Value_df.show(10,False)"
   ]
  },
  {
   "cell_type": "markdown",
   "metadata": {},
   "source": [
    "#### Join state_value table with state_transition_matrix to create Policy_Calc_Table"
   ]
  },
  {
   "cell_type": "code",
   "execution_count": 36,
   "metadata": {},
   "outputs": [],
   "source": [
    "t = State_Action_State_df.alias('t')\n",
    "s = State_Value_df.alias('s')\n",
    "join_condition = [ (s.state == t.state_prime) ]\n",
    "policy_calc_df_ = t.join(s, join_condition, 'inner').drop('state')\n",
    "#policy_calc_df_.show(20000,False)"
   ]
  },
  {
   "cell_type": "markdown",
   "metadata": {},
   "source": [
    "##### Calculate Expected Value (trans_freq * state_value) for each SAS transitions"
   ]
  },
  {
   "cell_type": "code",
   "execution_count": 37,
   "metadata": {},
   "outputs": [
    {
     "name": "stdout",
     "output_type": "stream",
     "text": [
      "+-------------------------------------------------------------------------------------------------------------------------------------------------------+--------+----------------------------+-------------------------------------------------------------------------------------------------------------------------------------------------------+------+-----------+------------+----------+-------------------+-------------------+\n",
      "|state_prior                                                                                                                                            |action  |action_verbose              |state_prime                                                                                                                                            |reward|transitions|state_visits|trans_freq|state_value        |expected_value     |\n",
      "+-------------------------------------------------------------------------------------------------------------------------------------------------------+--------+----------------------------+-------------------------------------------------------------------------------------------------------------------------------------------------------+------+-----------+------------+----------+-------------------+-------------------+\n",
      "|[0,0,0,0,0,0,0,0,0,0,0,1,2,0,0,0,0,0,3,4,0,5,0,6,7,0,0,0,0,8,0,9,10,0,0,0,11,0,0,0,12,0,13,0,0,0,0,14,0,0,0,15,0,0,0,0,0,0,16,0,0,0,0,-16]             |11,1,0  |(Pawn,(1,0),(3,5),(4,5))    |[0,0,0,0,0,0,0,0,0,0,0,1,2,0,0,0,0,0,3,4,0,5,0,6,7,8,0,0,0,0,0,9,10,0,0,0,11,12,0,0,13,0,0,0,0,0,0,14,0,0,0,15,0,0,0,0,0,0,16,0,0,0,0,-16]             |-1    |1          |1           |1.0       |-0.9607843137253964|-1.6725490196077775|\n",
      "|[0,1,0,0,0,0,0,0,0,0,0,0,2,0,3,4,5,0,6,7,8,0,0,0,0,0,9,10,11,12,13,0,14,0,0,0,0,0,0,15,0,16,0,0,-16,0,0,0,-15,-14,0,0,0,0,-13,-12,0,0,0,0,0,-11,0,0]   |1,1,2   |(Knight,(1,2),(0,1),(1,3))  |[0,0,0,0,0,0,0,0,0,0,0,1,2,0,3,4,5,0,6,7,8,0,0,0,0,0,9,10,11,12,13,0,14,0,0,0,0,0,0,15,16,-16,0,0,-15,0,0,0,-14,0,0,0,0,0,-13,-12,0,0,0,0,0,-11,0,0]   |-1    |1          |1           |1.0       |-0.9607843137117025|-1.6725490195981916|\n",
      "|[0,0,0,0,0,0,0,0,0,0,1,0,2,0,0,3,0,0,0,4,0,5,6,0,7,0,0,0,0,0,8,9,0,10,0,0,11,12,13,14,0,15,0,16,0,0,0,-16,0,0,0,0,0,0,0,0,0,-15,-14,0,0,-13,0,0]       |1,2,1   |(Knight,(2,1),(4,1),(6,2))  |[0,0,0,0,0,0,0,0,0,0,1,0,2,0,0,3,0,0,0,4,0,5,6,0,7,0,0,0,0,0,8,9,0,0,10,0,11,12,13,14,0,15,0,0,0,0,0,16,0,0,-16,0,0,0,0,0,0,-15,-14,0,0,-13,0,0]       |-1    |1          |1           |1.0       |-0.9607843137254675|-1.6725490196078272|\n",
      "|[0,0,0,0,0,0,0,0,0,0,1,0,2,0,0,3,4,5,0,6,7,0,8,9,0,0,10,11,0,12,13,0,14,0,15,0,0,0,0,16,-16,-15,0,0,-14,0,0,0,0,0,0,0,0,-13,0,-12,0,0,0,0,-11,-10,0,0] |-10,-1,0|(Pawn,(-1,0),(3,6),(2,6))   |[0,0,0,0,0,0,0,0,0,0,1,0,2,0,0,3,4,5,0,6,7,0,8,9,0,0,10,11,0,12,0,0,13,0,14,0,0,0,0,15,16,-16,0,0,-15,0,0,0,0,0,0,0,0,-14,0,-13,0,0,0,0,-12,-11,0,0]   |-1    |1          |1           |1.0       |0.627450981089442  |-0.5607843132373906|\n",
      "|[0,0,0,0,0,0,0,0,0,0,1,0,2,3,0,4,5,6,0,7,8,9,0,10,0,0,11,12,0,13,14,0,15,0,16,0,0,0,0,-16,-15,-14,0,0,-13,0,0,0,0,0,0,0,0,-12,0,-11,0,0,0,0,-10,-9,0,0]|-8,-1,2 |(Knight,(-1,2),(2,5),(1,7)) |[0,0,0,0,0,0,0,0,0,0,1,0,2,0,0,3,4,5,0,6,7,0,8,9,0,0,10,11,0,12,0,0,13,0,14,0,0,0,0,15,16,-16,0,0,-15,0,0,0,0,0,0,0,0,-14,0,-13,0,0,0,0,-12,-11,0,0]   |-1    |1          |1           |1.0       |0.627450981089442  |-0.5607843132373906|\n",
      "|[0,1,0,0,0,0,0,0,0,0,2,3,0,4,0,5,6,7,8,0,0,9,0,10,0,11,0,12,0,13,0,0,0,0,14,0,15,0,16,0,0,0,0,0,0,-16,0,-15,0,0,0,-14,-13,0,0,0,-12,0,0,0,0,-11,-10,-9]|1,1,2   |(Knight,(1,2),(0,1),(1,3))  |[0,0,0,0,0,0,0,0,0,0,1,2,0,3,0,4,5,6,7,0,0,8,0,9,0,10,0,11,0,12,13,0,0,0,14,0,15,0,0,0,0,0,0,0,0,16,0,-16,0,0,0,-15,-14,0,0,0,-13,0,0,0,0,-12,-11,-10] |-1    |1          |1           |1.0       |-0.9607843132373906|-1.6725490192661734|\n",
      "|[0,0,0,0,0,0,0,0,0,1,0,0,0,0,0,0,2,0,3,4,0,0,5,0,6,7,0,0,0,0,8,9,0,0,0,0,10,0,0,11,12,0,13,0,0,14,0,0,0,15,0,0,0,0,16,-16,-15,0,-14,0,0,0,0,0]         |12,1,-1 |(Pawn,(1,-1),(4,4),(5,3))   |[0,0,0,0,0,0,0,0,0,1,0,0,0,0,0,0,2,0,3,4,0,0,5,0,6,7,0,0,0,0,8,9,0,0,0,0,0,0,0,10,11,0,12,13,0,14,0,0,0,15,0,0,0,0,16,-16,-15,0,-14,0,0,0,0,0]         |-1    |1          |1           |1.0       |-3.3725490196031136|-3.3607843137221796|\n",
      "|[0,0,0,0,0,0,0,0,0,1,0,2,0,0,0,0,3,0,0,4,0,0,5,0,6,0,0,0,0,0,7,8,0,0,9,0,10,0,0,11,12,0,13,0,0,14,0,0,0,15,0,0,0,0,16,-16,-15,0,-14,0,0,0,0,0]         |3,1,-1  |(King,(1,-1),(1,3),(2,2))   |[0,0,0,0,0,0,0,0,0,1,0,0,0,0,0,0,2,0,3,4,0,0,5,0,6,7,0,0,0,0,8,9,0,0,0,0,0,0,0,10,11,0,12,13,0,14,0,0,0,15,0,0,0,0,16,-16,-15,0,-14,0,0,0,0,0]         |-1    |1          |1           |1.0       |-3.3725490196031136|-3.3607843137221796|\n",
      "|[0,0,0,0,0,0,0,0,0,1,0,0,0,2,0,3,4,5,0,0,0,6,0,7,0,0,0,8,9,0,10,0,0,0,0,0,0,0,11,0,0,12,13,14,15,16,0,-16,0,0,0,0,0,0,0,0,-15,0,0,0,0,0,0,-14]         |-4,-1,-1|(Bishop,(-1,-1),(4,6),(3,5))|[0,0,0,0,0,0,0,0,0,1,0,0,0,2,0,3,4,5,0,0,0,0,0,6,0,0,0,7,8,9,10,0,0,0,0,0,0,0,0,0,0,11,12,13,14,15,0,16,0,0,0,0,0,0,0,0,-16,0,0,0,0,0,0,-15]           |-1    |1          |1           |1.0       |-3.960784313725444 |-3.7725490196078106|\n",
      "|[0,0,0,0,0,0,0,0,0,1,0,0,2,3,0,4,5,0,0,6,7,8,0,9,0,0,0,0,10,0,11,12,13,0,0,0,14,0,15,0,0,16,-16,0,0,0,0,-15,-14,0,0,-13,-12,-11,0,-10,0,0,0,0,0,-9,0,0]|15,1,0  |(Pawn,(1,0),(3,7),(4,7))    |[0,0,0,0,0,0,0,0,0,1,0,0,2,3,0,4,5,0,0,6,7,8,0,9,0,0,0,0,10,0,11,0,12,0,0,0,13,0,14,15,0,16,-16,0,0,0,0,-15,-14,0,0,-13,-12,-11,0,-10,0,0,0,0,0,-9,0,0]|-1    |1          |1           |1.0       |-3.3725490195676455|-3.360784313697352 |\n",
      "+-------------------------------------------------------------------------------------------------------------------------------------------------------+--------+----------------------------+-------------------------------------------------------------------------------------------------------------------------------------------------------+------+-----------+------------+----------+-------------------+-------------------+\n",
      "only showing top 10 rows\n",
      "\n"
     ]
    }
   ],
   "source": [
    "get_expected_sas_value = udf(lambda alpha,gamma,reward,trans_freq,state_value: trans_freq*alpha*(reward + gamma*state_value),DoubleType())\n",
    "\n",
    "policy_calc_df = policy_calc_df_.withColumn('expected_value', get_expected_sas_value(lit(alpha),lit(gamma),col('reward'),col('trans_freq'), col('state_value')))\n",
    "\n",
    "policy_calc_df.show(10, False)"
   ]
  },
  {
   "cell_type": "code",
   "execution_count": 38,
   "metadata": {},
   "outputs": [],
   "source": [
    "policy_df = policy_calc_df.select('state_prior', max('action_verbose').over(sas_window_spec).alias('policy'))\n"
   ]
  },
  {
   "cell_type": "code",
   "execution_count": 39,
   "metadata": {},
   "outputs": [
    {
     "name": "stdout",
     "output_type": "stream",
     "text": [
      "+-------------------------------------------------------------------------------------------------------------------------------------------------------+---------------------------+\n",
      "|state_prior                                                                                                                                            |policy                     |\n",
      "+-------------------------------------------------------------------------------------------------------------------------------------------------------+---------------------------+\n",
      "|[0,0,0,0,0,0,0,0,0,0,0,0,0,0,0,1,0,0,2,3,4,5,0,0,6,7,0,0,0,8,0,9,10,0,0,0,0,0,0,0,11,0,0,0,0,0,0,0,12,0,0,0,13,0,14,0,15,0,16,0,-16,0,0,-15]           |(Pawn,(-1,0),(3,1),(2,1))  |\n",
      "|[0,0,0,0,0,0,0,0,0,0,0,0,1,2,0,3,0,4,5,6,0,0,7,0,8,9,0,0,10,11,12,13,0,0,0,0,14,15,0,0,0,0,16,0,0,0,0,-16,-15,0,0,-14,0,0,0,-13,0,0,0,-12,-11,-10,0,-9]|(Queen,(1,0),(1,5),(2,5))  |\n",
      "|[0,0,0,0,0,0,0,0,0,0,0,0,1,2,3,4,5,0,0,0,6,7,8,0,9,0,0,10,11,12,0,0,0,0,13,14,15,0,16,0,-16,0,0,0,0,-15,0,0,0,0,-14,0,0,0,0,-13,-12,0,-11,0,0,0,0,0]   |(Knight,(1,-2),(1,4),(2,2))|\n",
      "|[0,0,0,0,0,0,0,0,0,0,0,1,2,0,0,0,0,0,3,4,0,5,0,6,7,8,0,0,0,0,0,9,10,0,0,0,11,12,0,0,13,0,0,0,0,0,0,14,0,0,0,15,0,0,0,0,0,0,16,0,0,0,0,-16]             |(Bishop,(1,1),(1,4),(2,5)) |\n",
      "|[0,0,0,0,0,0,0,0,0,0,0,1,2,0,0,0,0,0,3,4,0,5,0,6,7,8,0,0,0,0,0,9,10,0,0,0,11,12,0,0,13,0,0,0,0,0,0,14,0,0,0,15,0,0,0,0,0,0,16,0,0,0,0,-16]             |(Bishop,(1,1),(1,4),(2,5)) |\n",
      "|[0,0,0,0,0,0,0,0,0,0,0,1,2,0,0,3,0,4,5,0,0,0,0,0,6,7,0,8,0,0,9,0,0,0,0,10,0,0,11,0,0,12,0,0,0,0,13,0,14,0,0,0,0,15,0,0,0,0,16,0,0,0,0,-16]             |(Pawn,(1,-1),(4,6),(5,5))  |\n",
      "|[0,0,0,0,0,0,0,0,0,0,0,1,2,0,0,3,4,5,6,0,7,0,0,8,0,0,0,9,10,11,0,0,12,0,13,0,0,0,14,0,0,0,15,0,16,-16,-15,-14,-13,-12,0,0,0,0,0,0,0,0,0,0,0,0,0,0]     |(Queen,(-1,0),(4,2),(3,2)) |\n",
      "|[0,0,0,0,0,0,0,0,0,0,0,1,2,0,3,4,5,0,6,7,8,0,0,0,0,0,9,10,11,12,13,0,14,0,0,0,0,0,0,15,16,-16,0,0,-15,0,0,0,-14,0,0,0,0,0,-13,-12,0,0,0,0,0,-11,0,0]   |(Knight,(2,1),(1,3),(3,4)) |\n",
      "|[0,0,0,0,0,0,0,0,0,0,0,1,2,0,3,4,5,0,6,7,8,0,0,0,0,0,9,10,11,12,13,0,14,0,0,0,0,0,0,15,16,-16,0,0,-15,0,0,0,-14,0,0,0,0,0,-13,-12,0,0,0,0,0,-11,0,0]   |(Knight,(2,1),(1,3),(3,4)) |\n",
      "|[0,0,0,0,0,0,0,0,0,0,0,1,2,0,3,4,5,6,7,8,9,0,10,0,0,11,0,12,0,0,0,0,13,0,0,0,0,0,0,0,14,0,15,0,0,0,0,0,16,0,0,-16,-15,0,-14,0,0,0,0,0,0,-13,0,-12]     |(Pawn,(1,1),(2,1),(3,2))   |\n",
      "+-------------------------------------------------------------------------------------------------------------------------------------------------------+---------------------------+\n",
      "only showing top 10 rows\n",
      "\n"
     ]
    }
   ],
   "source": [
    "\n",
    "policy_df.show(10, False)"
   ]
  },
  {
   "cell_type": "code",
   "execution_count": 40,
   "metadata": {},
   "outputs": [],
   "source": [
    "\n",
    "#policy_dict = policy_df.rdd.map(lambda row: {row[0]: row[1]}).collect()\n",
    "#policy_dict"
   ]
  },
  {
   "cell_type": "code",
   "execution_count": null,
   "metadata": {},
   "outputs": [],
   "source": []
  },
  {
   "cell_type": "code",
   "execution_count": null,
   "metadata": {},
   "outputs": [],
   "source": []
  },
  {
   "cell_type": "code",
   "execution_count": null,
   "metadata": {},
   "outputs": [],
   "source": []
  },
  {
   "cell_type": "code",
   "execution_count": null,
   "metadata": {},
   "outputs": [],
   "source": []
  },
  {
   "cell_type": "code",
   "execution_count": null,
   "metadata": {},
   "outputs": [],
   "source": []
  },
  {
   "cell_type": "code",
   "execution_count": null,
   "metadata": {},
   "outputs": [],
   "source": []
  },
  {
   "cell_type": "code",
   "execution_count": null,
   "metadata": {},
   "outputs": [],
   "source": []
  },
  {
   "cell_type": "code",
   "execution_count": null,
   "metadata": {},
   "outputs": [],
   "source": []
  },
  {
   "cell_type": "code",
   "execution_count": null,
   "metadata": {},
   "outputs": [],
   "source": []
  },
  {
   "cell_type": "code",
   "execution_count": null,
   "metadata": {},
   "outputs": [],
   "source": []
  },
  {
   "cell_type": "code",
   "execution_count": null,
   "metadata": {},
   "outputs": [],
   "source": []
  },
  {
   "cell_type": "code",
   "execution_count": null,
   "metadata": {},
   "outputs": [],
   "source": []
  },
  {
   "cell_type": "code",
   "execution_count": null,
   "metadata": {},
   "outputs": [],
   "source": []
  },
  {
   "cell_type": "code",
   "execution_count": null,
   "metadata": {},
   "outputs": [],
   "source": []
  },
  {
   "cell_type": "code",
   "execution_count": null,
   "metadata": {},
   "outputs": [],
   "source": []
  }
 ],
 "metadata": {
  "kernelspec": {
   "display_name": "Python 3",
   "language": "python",
   "name": "python3"
  },
  "language_info": {
   "codemirror_mode": {
    "name": "ipython",
    "version": 3
   },
   "file_extension": ".py",
   "mimetype": "text/x-python",
   "name": "python",
   "nbconvert_exporter": "python",
   "pygments_lexer": "ipython3",
   "version": "3.7.6"
  }
 },
 "nbformat": 4,
 "nbformat_minor": 4
}
