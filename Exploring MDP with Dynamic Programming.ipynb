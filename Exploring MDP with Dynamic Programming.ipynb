{
 "cells": [
  {
   "cell_type": "markdown",
   "metadata": {},
   "source": [
    "### CartPole"
   ]
  },
  {
   "cell_type": "code",
   "execution_count": 16,
   "metadata": {},
   "outputs": [],
   "source": [
    "import sys\n",
    "\n",
    "sys.path.append('/home/ubuntu/udacity/gym/')\n",
    "\n",
    "import gym\n",
    "\n",
    "import numpy as np"
   ]
  },
  {
   "cell_type": "code",
   "execution_count": 17,
   "metadata": {},
   "outputs": [
    {
     "data": {
      "text/plain": [
       "array([-0.00227331, -0.02390831,  0.03799507, -0.00359405])"
      ]
     },
     "execution_count": 17,
     "metadata": {},
     "output_type": "execute_result"
    }
   ],
   "source": [
    "env = gym.make('CartPole-v0')\n",
    "env.reset()"
   ]
  },
  {
   "cell_type": "markdown",
   "metadata": {},
   "source": [
    "##### Explore Gym"
   ]
  },
  {
   "cell_type": "code",
   "execution_count": 18,
   "metadata": {},
   "outputs": [
    {
     "data": {
      "text/plain": [
       "Discrete(2)"
      ]
     },
     "execution_count": 18,
     "metadata": {},
     "output_type": "execute_result"
    }
   ],
   "source": [
    "env.action_space"
   ]
  },
  {
   "cell_type": "code",
   "execution_count": 19,
   "metadata": {},
   "outputs": [
    {
     "data": {
      "text/plain": [
       "Box(4,)"
      ]
     },
     "execution_count": 19,
     "metadata": {},
     "output_type": "execute_result"
    }
   ],
   "source": [
    "env.observation_space"
   ]
  },
  {
   "cell_type": "code",
   "execution_count": 20,
   "metadata": {},
   "outputs": [
    {
     "data": {
      "text/plain": [
       "0"
      ]
     },
     "execution_count": 20,
     "metadata": {},
     "output_type": "execute_result"
    }
   ],
   "source": [
    "env.action_space.sample()\n"
   ]
  },
  {
   "cell_type": "code",
   "execution_count": 21,
   "metadata": {},
   "outputs": [
    {
     "data": {
      "text/plain": [
       "<TimeLimit<CartPoleEnv<CartPole-v0>>>"
      ]
     },
     "execution_count": 21,
     "metadata": {},
     "output_type": "execute_result"
    }
   ],
   "source": [
    "env"
   ]
  },
  {
   "cell_type": "markdown",
   "metadata": {},
   "source": [
    "##### Run a few episodes -- reseting game after each"
   ]
  },
  {
   "cell_type": "code",
   "execution_count": 22,
   "metadata": {},
   "outputs": [
    {
     "name": "stdout",
     "output_type": "stream",
     "text": [
      "Episode 0 took 20 steps and got 20.0 rewards\n",
      "Episode 1 took 32 steps and got 32.0 rewards\n",
      "Episode 2 took 16 steps and got 16.0 rewards\n",
      "Episode 3 took 58 steps and got 58.0 rewards\n",
      "Episode 4 took 15 steps and got 15.0 rewards\n",
      "Episode 5 took 12 steps and got 12.0 rewards\n",
      "Episode 6 took 16 steps and got 16.0 rewards\n",
      "Episode 7 took 23 steps and got 23.0 rewards\n",
      "Episode 8 took 17 steps and got 17.0 rewards\n",
      "Episode 9 took 21 steps and got 21.0 rewards\n"
     ]
    }
   ],
   "source": [
    "episodes = 10\n",
    "\n",
    "for ep in range(episodes):\n",
    "    episode_rewards = 0\n",
    "    time_steps = 0\n",
    "    while True:\n",
    "        time_steps += 1\n",
    "        action = env.action_space.sample()\n",
    "        state,reward,done,info = env.step(action)\n",
    "        episode_rewards += reward\n",
    "        if done:\n",
    "            print(\"Episode {} took {} steps and got {} rewards\".format(ep,time_steps,episode_rewards))\n",
    "            env.reset()\n",
    "            break"
   ]
  },
  {
   "cell_type": "markdown",
   "metadata": {},
   "source": [
    "#### Policy Evaluation"
   ]
  },
  {
   "cell_type": "code",
   "execution_count": 23,
   "metadata": {},
   "outputs": [],
   "source": [
    "env.reset()\n",
    "env = gym.make('FrozenLake-v0')\n",
    "env = env.unwrapped\n",
    "#env.P"
   ]
  },
  {
   "cell_type": "code",
   "execution_count": 24,
   "metadata": {},
   "outputs": [
    {
     "data": {
      "text/plain": [
       "[(0.3333333333333333, 1, 0.0, False),\n",
       " (0.3333333333333333, 0, 0.0, False),\n",
       " (0.3333333333333333, 5, 0.0, True)]"
      ]
     },
     "execution_count": 24,
     "metadata": {},
     "output_type": "execute_result"
    }
   ],
   "source": [
    "env.P[1][0]"
   ]
  },
  {
   "cell_type": "code",
   "execution_count": 25,
   "metadata": {},
   "outputs": [],
   "source": [
    "def policy_evaluation(states, policy, env_model, discount, theta=0.0001):\n",
    "    delta = theta*2\n",
    "    state_len = env.nS\n",
    "    action_len = env.nA\n",
    "    \n",
    "    while delta > theta:\n",
    "        delta = 0\n",
    "        for s in range(state_len):\n",
    "            new_s = 0.\n",
    "            for a in range(action_len):\n",
    "                transitions_list = env_model[s][a]\n",
    "                for i in transitions_list:\n",
    "                    transition_prob, next_state, reward, done = i\n",
    "                    if done:\n",
    "                        new_s += policy[s,a]*transition_prob*reward\n",
    "                    else:\n",
    "                        new_s += policy[s,a]*transition_prob*(reward + discount*states[next_state])\n",
    "            delta = max(delta, np.abs(new_s - states[s]))\n",
    "            states[s] = new_s\n",
    "    \n",
    "    \n",
    "    return states\n",
    "            "
   ]
  },
  {
   "cell_type": "code",
   "execution_count": 26,
   "metadata": {},
   "outputs": [
    {
     "name": "stdout",
     "output_type": "stream",
     "text": [
      "Reshaped State Value Estimates with gamma of 0.99:\n",
      "[[0.012 0.01  0.019 0.009]\n",
      " [0.015 0.    0.039 0.   ]\n",
      " [0.033 0.084 0.138 0.   ]\n",
      " [0.    0.17  0.434 0.   ]]\n",
      "\n"
     ]
    }
   ],
   "source": [
    "gamma = 0.99\n",
    "state_size = env.nS\n",
    "action_size = env.nA\n",
    "\n",
    "state_value_array = np.zeros(state_size)\n",
    "\n",
    "policy_array = np.ones((state_size, action_size))/ action_size\n",
    "\n",
    "state_value_array = policy_evaluation(state_value_array, policy_array, env.P, gamma)\n",
    "\n",
    "print(\"Reshaped State Value Estimates with gamma of {}:\".format(gamma))\n",
    "print(np.round(state_value_array.reshape(4,4),3))\n",
    "print(\"\")"
   ]
  },
  {
   "cell_type": "markdown",
   "metadata": {},
   "source": [
    "#### Using MDP Framework with Policy Evaluation"
   ]
  },
  {
   "cell_type": "markdown",
   "metadata": {},
   "source": [
    "##### Policy Improvement: FrozenLake"
   ]
  },
  {
   "cell_type": "code",
   "execution_count": 27,
   "metadata": {},
   "outputs": [],
   "source": [
    "def policy_improvement(states, policy, env_model, discount):\n",
    "    policy_stable = True\n",
    "    state_len  = env.nS\n",
    "    action_len = env.nA\n",
    "    \n",
    "    for s in range(state_len):\n",
    "        old_action = np.argmax(policy[s])\n",
    "        temp_array = np.zeros((action_len))\n",
    "        for a in range(action_len):\n",
    "            transitions_list = env_model[s][a]\n",
    "            for i in transitions_list:\n",
    "                transitions_prob, next_state, reward, done = i\n",
    "                if done:\n",
    "                    temp_array[a] += transitions_prob*reward\n",
    "                else:\n",
    "                    temp_array[a] += transitions_prob*(reward + discount*states[next_state])\n",
    "        policy[s] = np.zeros((action_len))\n",
    "        policy[s, np.argmax(temp_array)] = 1.\n",
    "        \n",
    "        if old_action != np.argmax(policy[s]):\n",
    "            policy_stable = False\n",
    "        \n",
    "    return policy_stable, states, policy\n",
    "\n",
    "\n",
    "def policy_iteration(env_model, discount, theta=0.0001):\n",
    "    \n",
    "    policy = np.ones((env.nS, env.nA))/env.nA\n",
    "    \n",
    "    states = np.zeros(env.nS)\n",
    "    \n",
    "    policy_stable = False\n",
    "    \n",
    "    while not policy_stable:\n",
    "        \n",
    "        states = policy_evaluation(states, policy, env_model, discount, theta)\n",
    "        \n",
    "        policy_stable, states, policy = policy_improvement(states, policy, env_model, discount)\n",
    "        \n",
    "        \n",
    "    return states, policy"
   ]
  },
  {
   "cell_type": "code",
   "execution_count": 28,
   "metadata": {},
   "outputs": [
    {
     "name": "stdout",
     "output_type": "stream",
     "text": [
      "Reshaped State Value Estimates with gamma of 0.99:\n",
      "[[0.951 0.961 0.97  0.961]\n",
      " [0.961 0.    0.98  0.   ]\n",
      " [0.97  0.98  0.99  0.   ]\n",
      " [0.    0.99  1.    0.   ]]\n",
      "\n",
      "Reshaped Policy Array {}:\n",
      "[[0. 1. 0. 0.]\n",
      " [0. 0. 1. 0.]\n",
      " [0. 1. 0. 0.]\n",
      " [1. 0. 0. 0.]\n",
      " [0. 1. 0. 0.]\n",
      " [1. 0. 0. 0.]\n",
      " [0. 1. 0. 0.]\n",
      " [1. 0. 0. 0.]\n",
      " [0. 0. 1. 0.]\n",
      " [0. 1. 0. 0.]\n",
      " [0. 1. 0. 0.]\n",
      " [1. 0. 0. 0.]\n",
      " [1. 0. 0. 0.]\n",
      " [0. 0. 1. 0.]\n",
      " [0. 0. 1. 0.]\n",
      " [1. 0. 0. 0.]]\n",
      "\n"
     ]
    }
   ],
   "source": [
    "env = gym.make('FrozenLake-v0', is_slippery=False)\n",
    "#env = gym.make('FrozenLakeNotSlippery-v0')\n",
    "\n",
    "gamma = 0.99\n",
    "\n",
    "state_value_array, policy_array = policy_iteration(env.P, gamma)\n",
    "\n",
    "\n",
    "print(\"Reshaped State Value Estimates with gamma of {}:\".format(gamma))\n",
    "print(np.round(state_value_array.reshape(4,4),3))\n",
    "print(\"\")\n",
    "\n",
    "print(\"Reshaped Policy Array {}:\")\n",
    "print(np.round(policy_array.reshape(16,4),3))\n",
    "print(\"\")"
   ]
  },
  {
   "cell_type": "markdown",
   "metadata": {},
   "source": [
    "#### Policy Improvement Taxi"
   ]
  },
  {
   "cell_type": "code",
   "execution_count": 29,
   "metadata": {},
   "outputs": [
    {
     "name": "stdout",
     "output_type": "stream",
     "text": [
      "+---------+\n",
      "|\u001b[35mR\u001b[0m: |\u001b[43m \u001b[0m: :G|\n",
      "| : | : : |\n",
      "| : : : : |\n",
      "| | : | : |\n",
      "|Y| : |\u001b[34;1mB\u001b[0m: |\n",
      "+---------+\n",
      "\n",
      "+---------+\n",
      "|\u001b[35mR\u001b[0m: | :\u001b[43m \u001b[0m:G|\n",
      "| : | : : |\n",
      "| : : : : |\n",
      "| | : | : |\n",
      "|Y| : |\u001b[34;1mB\u001b[0m: |\n",
      "+---------+\n",
      "  (East)\n",
      "+---------+\n",
      "|\u001b[35mR\u001b[0m: | : :G|\n",
      "| : | :\u001b[43m \u001b[0m: |\n",
      "| : : : : |\n",
      "| | : | : |\n",
      "|Y| : |\u001b[34;1mB\u001b[0m: |\n",
      "+---------+\n",
      "  (South)\n",
      "+---------+\n",
      "|\u001b[35mR\u001b[0m: | : :G|\n",
      "| : | :\u001b[43m \u001b[0m: |\n",
      "| : : : : |\n",
      "| | : | : |\n",
      "|Y| : |\u001b[34;1mB\u001b[0m: |\n",
      "+---------+\n",
      "  (Pickup)\n",
      "+---------+\n",
      "|\u001b[35mR\u001b[0m: | :\u001b[43m \u001b[0m:G|\n",
      "| : | : : |\n",
      "| : : : : |\n",
      "| | : | : |\n",
      "|Y| : |\u001b[34;1mB\u001b[0m: |\n",
      "+---------+\n",
      "  (North)\n"
     ]
    }
   ],
   "source": [
    "env = gym.make('Taxi-v3')\n",
    "env.reset()\n",
    "\n",
    "for i in range(5):\n",
    "    env.render()\n",
    "    state,reward,done,info = env.step(env.action_space.sample())\n",
    "    if done:\n",
    "        print(\"Episode is done, resetting the environment\")\n",
    "        env.reset()\n",
    "env.close()"
   ]
  },
  {
   "cell_type": "code",
   "execution_count": null,
   "metadata": {},
   "outputs": [],
   "source": []
  },
  {
   "cell_type": "code",
   "execution_count": null,
   "metadata": {},
   "outputs": [],
   "source": []
  },
  {
   "cell_type": "code",
   "execution_count": null,
   "metadata": {},
   "outputs": [],
   "source": []
  },
  {
   "cell_type": "code",
   "execution_count": null,
   "metadata": {},
   "outputs": [],
   "source": []
  },
  {
   "cell_type": "code",
   "execution_count": null,
   "metadata": {},
   "outputs": [],
   "source": []
  },
  {
   "cell_type": "code",
   "execution_count": null,
   "metadata": {},
   "outputs": [],
   "source": []
  },
  {
   "cell_type": "code",
   "execution_count": null,
   "metadata": {},
   "outputs": [],
   "source": []
  },
  {
   "cell_type": "code",
   "execution_count": null,
   "metadata": {},
   "outputs": [],
   "source": []
  },
  {
   "cell_type": "code",
   "execution_count": null,
   "metadata": {},
   "outputs": [],
   "source": []
  },
  {
   "cell_type": "code",
   "execution_count": null,
   "metadata": {},
   "outputs": [],
   "source": []
  },
  {
   "cell_type": "code",
   "execution_count": null,
   "metadata": {},
   "outputs": [],
   "source": []
  },
  {
   "cell_type": "code",
   "execution_count": null,
   "metadata": {},
   "outputs": [],
   "source": []
  },
  {
   "cell_type": "code",
   "execution_count": null,
   "metadata": {},
   "outputs": [],
   "source": []
  },
  {
   "cell_type": "code",
   "execution_count": null,
   "metadata": {},
   "outputs": [],
   "source": []
  }
 ],
 "metadata": {
  "kernelspec": {
   "display_name": "drlnd",
   "language": "python",
   "name": "drlnd"
  },
  "language_info": {
   "codemirror_mode": {
    "name": "ipython",
    "version": 3
   },
   "file_extension": ".py",
   "mimetype": "text/x-python",
   "name": "python",
   "nbconvert_exporter": "python",
   "pygments_lexer": "ipython3",
   "version": "3.7.6"
  }
 },
 "nbformat": 4,
 "nbformat_minor": 4
}
