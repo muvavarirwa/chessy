{
 "cells": [
  {
   "cell_type": "code",
   "execution_count": 7,
   "metadata": {},
   "outputs": [],
   "source": [
    "import numpy as np\n",
    "import pandas as pd\n",
    "from random import random"
   ]
  },
  {
   "cell_type": "code",
   "execution_count": 102,
   "metadata": {},
   "outputs": [
    {
     "data": {
      "text/plain": [
       "array([[0.76638649, 0.48992219, 0.56936646, ..., 0.13769202, 0.40908798,\n",
       "        0.4015304 ],\n",
       "       [0.5090373 , 0.18849905, 0.95008357, ..., 0.24123772, 0.92325385,\n",
       "        0.79643495],\n",
       "       [0.18164506, 0.29619839, 0.46456583, ..., 0.48344707, 0.92524878,\n",
       "        0.03809238],\n",
       "       ...,\n",
       "       [0.91835865, 0.54138692, 0.41659255, ..., 0.31984839, 0.38080566,\n",
       "        0.59850545],\n",
       "       [0.76837316, 0.08882954, 0.79757256, ..., 0.65539297, 0.21922021,\n",
       "        0.23593688],\n",
       "       [0.775373  , 0.34513297, 0.72925769, ..., 0.28231838, 0.50725002,\n",
       "        0.66349429]])"
      ]
     },
     "execution_count": 102,
     "metadata": {},
     "output_type": "execute_result"
    }
   ],
   "source": [
    "A = np.random.rand(100000000).reshape(10000,10000)\n",
    "A"
   ]
  },
  {
   "cell_type": "code",
   "execution_count": 103,
   "metadata": {},
   "outputs": [
    {
     "data": {
      "text/plain": [
       "array([[0.06476267, 0.5180987 , 0.77973906, ..., 0.53698746, 0.69070147,\n",
       "        0.79536487],\n",
       "       [0.87976126, 0.31470579, 0.10886015, ..., 0.04476731, 0.23460045,\n",
       "        0.11700744],\n",
       "       [0.67481659, 0.41480521, 0.04301659, ..., 0.63120813, 0.68570719,\n",
       "        0.24530735],\n",
       "       ...,\n",
       "       [0.89187592, 0.57376447, 0.283379  , ..., 0.25508603, 0.17713584,\n",
       "        0.90406928],\n",
       "       [0.30947376, 0.47893369, 0.02460656, ..., 0.69314248, 0.49749264,\n",
       "        0.10440526],\n",
       "       [0.67630291, 0.63597808, 0.23233997, ..., 0.05892505, 0.43161732,\n",
       "        0.77963349]])"
      ]
     },
     "execution_count": 103,
     "metadata": {},
     "output_type": "execute_result"
    }
   ],
   "source": [
    "B = np.random.rand(100000000).reshape(10000,10000)\n",
    "B"
   ]
  },
  {
   "cell_type": "code",
   "execution_count": 104,
   "metadata": {},
   "outputs": [],
   "source": [
    "C = A*B"
   ]
  },
  {
   "cell_type": "code",
   "execution_count": null,
   "metadata": {},
   "outputs": [],
   "source": []
  },
  {
   "cell_type": "code",
   "execution_count": 105,
   "metadata": {},
   "outputs": [
    {
     "name": "stdout",
     "output_type": "stream",
     "text": [
      "[[0.04963323 0.43101457 0.38421794 ... 0.12280419 0.126602   0.27155618]\n",
      " [0.26373156 0.05932174 0.39409962 ... 0.13841364 0.44217737 0.50651517]\n",
      " [0.14163575 0.0322442  0.01998404 ... 0.13699874 0.02276719 0.00885038]\n",
      " ...\n",
      " [0.49314708 0.02423644 0.2629566  ... 0.08158886 0.26395258 0.03526697]\n",
      " [0.53071647 0.02083945 0.54690123 ... 0.11609358 0.10906044 0.10183444]\n",
      " [0.61670445 0.04038313 0.17889227 ... 0.25523538 0.05295957 0.51728237]]\n"
     ]
    }
   ],
   "source": [
    "result = []\n",
    "\n",
    "for i in range(A.shape[0]):\n",
    "    for j in range(A.shape[0]):\n",
    "        result.append(A[i,j]*B[j,i])\n",
    "        \n",
    "print(np.array(result).reshape(A.shape))"
   ]
  },
  {
   "cell_type": "code",
   "execution_count": 106,
   "metadata": {},
   "outputs": [
    {
     "name": "stderr",
     "output_type": "stream",
     "text": [
      "/home/ubuntu/anaconda3/lib/python3.7/site-packages/ipykernel_launcher.py:1: DeprecationWarning: elementwise comparison failed; this will raise an error in the future.\n",
      "  \"\"\"Entry point for launching an IPython kernel.\n"
     ]
    },
    {
     "data": {
      "text/plain": [
       "False"
      ]
     },
     "execution_count": 106,
     "metadata": {},
     "output_type": "execute_result"
    }
   ],
   "source": [
    "C == result"
   ]
  },
  {
   "cell_type": "code",
   "execution_count": null,
   "metadata": {},
   "outputs": [],
   "source": []
  },
  {
   "cell_type": "code",
   "execution_count": null,
   "metadata": {},
   "outputs": [],
   "source": []
  }
 ],
 "metadata": {
  "kernelspec": {
   "display_name": "Python 3",
   "language": "python",
   "name": "python3"
  },
  "language_info": {
   "codemirror_mode": {
    "name": "ipython",
    "version": 3
   },
   "file_extension": ".py",
   "mimetype": "text/x-python",
   "name": "python",
   "nbconvert_exporter": "python",
   "pygments_lexer": "ipython3",
   "version": "3.7.6"
  }
 },
 "nbformat": 4,
 "nbformat_minor": 4
}
